{
 "cells": [
  {
   "cell_type": "code",
   "execution_count": 1,
   "metadata": {},
   "outputs": [],
   "source": [
    "import tensorflow as tf\n",
    "import numpy as np\n",
    "import matplotlib.pyplot as plt\n",
    "from tensorflow import nn\n",
    "tf.compat.v1.disable_eager_execution()"
   ]
  },
  {
   "cell_type": "code",
   "execution_count": 35,
   "metadata": {},
   "outputs": [],
   "source": [
    "from tensorflow.keras import datasets\n",
    "mnist1=datasets.mnist"
   ]
  },
  {
   "cell_type": "code",
   "execution_count": 72,
   "metadata": {},
   "outputs": [],
   "source": [
    "(train,train_labels),(test,test_labels)=mnist1.load_data()"
   ]
  },
  {
   "cell_type": "code",
   "execution_count": 42,
   "metadata": {},
   "outputs": [
    {
     "data": {
      "image/png": "[encoded data removed]",
      "text/plain": [
       "<Figure size 432x288 with 1 Axes>"
      ]
     },
     "metadata": {
      "needs_background": "light"
     },
     "output_type": "display_data"
    }
   ],
   "source": [
    "\n",
    "plt.imshow(train[1])\n",
    "input_shape=test[1].shape"
   ]
  },
  {
   "cell_type": "code",
   "execution_count": 120,
   "metadata": {},
   "outputs": [],
   "source": [
    "model=tf.keras.Sequential([\n",
    "    tf.keras.layers.Flatten(input_shape=(28,28)),\n",
    "    tf.keras.layers.Dense(128,activation='relu'),\n",
    "    tf.keras.layers.Dense(128,activation='relu'),\n",
    "    tf.keras.layers.Dense(3)\n",
    "])\n",
    "model.compile(optimizer='adam',loss=tf.keras.losses.SparseCategoricalCrossentropy(from_logits=True),metrics=['accuracy'])"
   ]
  },
  {
   "cell_type": "code",
   "execution_count": 70,
   "metadata": {},
   "outputs": [
    {
     "name": "stdout",
     "output_type": "stream",
     "text": [
      "Train on 60000 samples\n",
      "Epoch 1/10\n",
      "60000/60000 [==============================] - 8s 134us/sample - loss: 0.2792 - accuracy: 0.9370\n",
      "Epoch 2/10\n",
      "60000/60000 [==============================] - 8s 134us/sample - loss: 0.1886 - accuracy: 0.9500\n",
      "Epoch 3/10\n",
      "60000/60000 [==============================] - 8s 133us/sample - loss: 0.1467 - accuracy: 0.9591\n",
      "Epoch 4/10\n",
      "60000/60000 [==============================] - 8s 135us/sample - loss: 0.1415 - accuracy: 0.9615\n",
      "Epoch 5/10\n",
      "60000/60000 [==============================] - 8s 134us/sample - loss: 0.1248 - accuracy: 0.9657\n",
      "Epoch 6/10\n",
      "60000/60000 [==============================] - 8s 136us/sample - loss: 0.1138 - accuracy: 0.9682\n",
      "Epoch 7/10\n",
      "60000/60000 [==============================] - 8s 133us/sample - loss: 0.1039 - accuracy: 0.9711\n",
      "Epoch 8/10\n",
      "60000/60000 [==============================] - 8s 136us/sample - loss: 0.1036 - accuracy: 0.9715\n",
      "Epoch 9/10\n",
      "60000/60000 [==============================] - 8s 135us/sample - loss: 0.0889 - accuracy: 0.9752\n",
      "Epoch 10/10\n",
      "60000/60000 [==============================] - 8s 136us/sample - loss: 0.0920 - accuracy: 0.9757\n"
     ]
    },
    {
     "data": {
      "text/plain": [
       "<tensorflow.python.keras.callbacks.History at 0x8e5db7c88>"
      ]
     },
     "execution_count": 70,
     "metadata": {},
     "output_type": "execute_result"
    }
   ],
   "source": [
    "model.fit(train,train_labels,epochs=10)"
   ]
  },
  {
   "cell_type": "code",
   "execution_count": 73,
   "metadata": {},
   "outputs": [
    {
     "data": {
      "text/plain": [
       "[0.14713935031738365, 0.9682]"
      ]
     },
     "execution_count": 73,
     "metadata": {},
     "output_type": "execute_result"
    }
   ],
   "source": [
    "model.evaluate(test,test_labels)"
   ]
  },
  {
   "cell_type": "code",
   "execution_count": 152,
   "metadata": {},
   "outputs": [],
   "source": [
    "probability_model=tf.keras.Sequential([model,tf.keras.layers.Softmax()])\n",
    "predictions=probability_model.predict(test)"
   ]
  },
  {
   "cell_type": "code",
   "execution_count": 158,
   "metadata": {},
   "outputs": [
    {
     "name": "stdout",
     "output_type": "stream",
     "text": [
      "9\n"
     ]
    },
    {
     "data": {
      "text/plain": [
       "<matplotlib.image.AxesImage at 0x8e0505288>"
      ]
     },
     "execution_count": 158,
     "metadata": {},
     "output_type": "execute_result"
    },
    {
     "data": {
      "image/png": "[encoded data removed]",
      "text/plain": [
       "<Figure size 432x288 with 1 Axes>"
      ]
     },
     "metadata": {
      "needs_background": "light"
     },
     "output_type": "display_data"
    }
   ],
   "source": [
    "k=549\n",
    "print(np.argmax(predictions[k]))\n",
    "plt.imshow(test[k])\n",
    "\n"
   ]
  },
  {
   "cell_type": "code",
   "execution_count": 49,
   "metadata": {},
   "outputs": [],
   "source": [
    "import cv2\n"
   ]
  },
  {
   "cell_type": "code",
   "execution_count": 99,
   "metadata": {
    "scrolled": true
   },
   "outputs": [
    {
     "name": "stdout",
     "output_type": "stream",
     "text": [
      "(28, 28)\n",
      "(28, 28, 3)\n",
      "(28, 28)\n"
     ]
    },
    {
     "data": {
      "image/png": "[encoded data removed]",
      "text/plain": [
       "<Figure size 432x288 with 1 Axes>"
      ]
     },
     "metadata": {
      "needs_background": "light"
     },
     "output_type": "display_data"
    }
   ],
   "source": [
    "img1=cv2.imread('desktop/rakesh/numbers/nine.png')\n",
    "img2=cv2.cvtColor(img1,cv2.COLOR_BGR2GRAY)\n",
    "\n",
    "print(img2.shape)\n",
    "plt.imshow(img2)\n",
    "print(img1.shape)\n",
    "nine=cv2.resize(img2,(28,28))\n",
    "print(nine.shape)\n",
    "\n"
   ]
  },
  {
   "cell_type": "code",
   "execution_count": 100,
   "metadata": {},
   "outputs": [
    {
     "data": {
      "text/plain": [
       "<matplotlib.image.AxesImage at 0x8dd9a7888>"
      ]
     },
     "execution_count": 100,
     "metadata": {},
     "output_type": "execute_result"
    },
    {
     "data": {
      "image/png": "[encoded data removed]",
      "text/plain": [
       "<Figure size 432x288 with 1 Axes>"
      ]
     },
     "metadata": {
      "needs_background": "light"
     },
     "output_type": "display_data"
    }
   ],
   "source": [
    "plt.imshow(seven)"
   ]
  },
  {
   "cell_type": "code",
   "execution_count": 52,
   "metadata": {},
   "outputs": [
    {
     "data": {
      "text/plain": [
       "array([8.8540858e-10, 1.9861222e-05, 9.9996829e-01, 1.1650182e-05,\n",
       "       1.7634260e-17, 5.2756047e-13, 9.3547132e-12, 4.3237918e-08,\n",
       "       1.3292356e-07, 1.8097473e-13], dtype=float32)"
      ]
     },
     "execution_count": 52,
     "metadata": {},
     "output_type": "execute_result"
    }
   ],
   "source": [
    "predictions[k]"
   ]
  },
  {
   "cell_type": "code",
   "execution_count": 251,
   "metadata": {},
   "outputs": [
    {
     "name": "stdout",
     "output_type": "stream",
     "text": [
      "['d1.jpg', 'download (1).jpg', 'download (3).jpg', 'download (4).jpg', 'download (6).jpg', 'Thumbs.db']\n"
     ]
    }
   ],
   "source": [
    "import os\n",
    "files=[]\n",
    "input_folder='desktop/rakesh/dogs'\n",
    "for root,directory,file_name in os.walk(input_folder):\n",
    "    for file in file_name:\n",
    "        \n",
    "    \n",
    "        files.append(file)\n",
    "print(files)"
   ]
  },
  {
   "cell_type": "code",
   "execution_count": 293,
   "metadata": {},
   "outputs": [
    {
     "name": "stdout",
     "output_type": "stream",
     "text": [
      "['d1.jpg', 'download (1).jpg', 'download (3).jpg', 'download (4).jpg', 'download (6).jpg']\n",
      "(100, 100)\n",
      "(100, 100)\n",
      "(100, 100)\n",
      "(100, 100)\n",
      "(100, 100)\n",
      "(5, 100, 100)\n"
     ]
    }
   ],
   "source": [
    "import cv2\n",
    "import numpy as np\n",
    "import os\n",
    "files=[]\n",
    "input_folder='desktop/rakesh/dogs/dogs'\n",
    "for root,directory,file_name in os.walk(input_folder):\n",
    "    for file in file_name:\n",
    "        files.append(file)\n",
    "        \n",
    "print(files)\n",
    "train_imgs=[]\n",
    "for i in range(len(files)):\n",
    "    img=cv2.imread('desktop/rakesh/dogs/dogs/{}'.format(files[i]))\n",
    "    img_gray=cv2.cvtColor(img,cv2.COLOR_BGR2GRAY)\n",
    "    x=np.array(img_gray)\n",
    "    print(x.shape)\n",
    "    train_imgs.append(x)\n",
    "\n",
    "    \n",
    "train_imgs=np.array(train_imgs)\n",
    "print(train_imgs.shape)"
   ]
  },
  {
   "cell_type": "code",
   "execution_count": 296,
   "metadata": {},
   "outputs": [
    {
     "name": "stdout",
     "output_type": "stream",
     "text": [
      "['ddog3.jpg', 'dog12.jpg', 'dogg1.jpg', 'images.jpg', 'Thumbs.db']\n",
      "(100, 100)\n",
      "(100, 100)\n",
      "(100, 100)\n",
      "(100, 100)\n",
      "(4, 100, 100)\n"
     ]
    }
   ],
   "source": [
    "import cv2\n",
    "import numpy as np\n",
    "\n",
    "import os\n",
    "files=[]\n",
    "input_folder='desktop/rakesh/dogs/dogs1'\n",
    "for root,directory,file_name in os.walk(input_folder):\n",
    "    for file in file_name:\n",
    "        \n",
    "    \n",
    "        files.append(file)\n",
    "print(files)\n",
    "test_imgs=[]\n",
    "for i in range(len(files)-1):\n",
    "  \n",
    "\n",
    "    img=cv2.imread('desktop/rakesh/dogs/dogs1/{}'.format(files[i]))\n",
    "   \n",
    "    \n",
    "    img_gray=cv2.cvtColor(img,cv2.COLOR_BGR2GRAY)\n",
    "   \n",
    "    \n",
    "    x=np.array(img_gray)\n",
    "    print(x.shape)\n",
    "    test_imgs.append(x)\n",
    "    \n",
    "    \n",
    "test_imgs=np.array(test_imgs)\n",
    "print(test_imgs.shape)"
   ]
  },
  {
   "cell_type": "code",
   "execution_count": 297,
   "metadata": {},
   "outputs": [],
   "source": [
    "model=tf.keras.Sequential([\n",
    "    tf.keras.layers.Flatten(input_shape=(100,100)),\n",
    "    tf.keras.layers.Dense(128,activation='relu'),\n",
    "    tf.keras.layers.Dense(128,activation='relu'),\n",
    "    tf.keras.layers.Dense(5)\n",
    "])\n",
    "model.compile(optimizer='adam',loss=tf.keras.losses.SparseCategoricalCrossentropy(from_logits=True),metrics=['accuracy'])"
   ]
  },
  {
   "cell_type": "code",
   "execution_count": 298,
   "metadata": {},
   "outputs": [
    {
     "name": "stdout",
     "output_type": "stream",
     "text": [
      "Train on 5 samples\n",
      "Epoch 1/10\n",
      "5/5 [==============================] - 0s 0s/sample - loss: 170.8965 - accuracy: 0.2000\n",
      "Epoch 2/10\n",
      "5/5 [==============================] - 0s 600us/sample - loss: 1332.8082 - accuracy: 0.2000\n",
      "Epoch 3/10\n",
      "5/5 [==============================] - 0s 799us/sample - loss: 708.8840 - accuracy: 0.2000\n",
      "Epoch 4/10\n",
      "5/5 [==============================] - 0s 800us/sample - loss: 427.3759 - accuracy: 0.2000\n",
      "Epoch 5/10\n",
      "5/5 [==============================] - 0s 798us/sample - loss: 325.5424 - accuracy: 0.4000\n",
      "Epoch 6/10\n",
      "5/5 [==============================] - 0s 0s/sample - loss: 282.6827 - accuracy: 0.4000\n",
      "Epoch 7/10\n",
      "5/5 [==============================] - 0s 800us/sample - loss: 219.8541 - accuracy: 0.2000\n",
      "Epoch 8/10\n",
      "5/5 [==============================] - 0s 798us/sample - loss: 286.6323 - accuracy: 0.2000\n",
      "Epoch 9/10\n",
      "5/5 [==============================] - 0s 801us/sample - loss: 350.8052 - accuracy: 0.2000\n",
      "Epoch 10/10\n",
      "5/5 [==============================] - 0s 800us/sample - loss: 224.1050 - accuracy: 0.4000\n"
     ]
    },
    {
     "data": {
      "text/plain": [
       "<tensorflow.python.keras.callbacks.History at 0x8f1611748>"
      ]
     },
     "execution_count": 298,
     "metadata": {},
     "output_type": "execute_result"
    }
   ],
   "source": [
    "test_la=np.array([0,1,2,3,4])\n",
    "model.fit(train_imgs,test_la,epochs=10)\n"
   ]
  },
  {
   "cell_type": "code",
   "execution_count": 299,
   "metadata": {},
   "outputs": [
    {
     "name": "stdout",
     "output_type": "stream",
     "text": [
      "2\n"
     ]
    },
    {
     "data": {
      "text/plain": [
       "<matplotlib.image.AxesImage at 0x8f16b7dc8>"
      ]
     },
     "execution_count": 299,
     "metadata": {},
     "output_type": "execute_result"
    },
    {
     "data": {
      "image/png": "[encoded data removed]",
      "text/plain": [
       "<Figure size 432x288 with 1 Axes>"
      ]
     },
     "metadata": {
      "needs_background": "light"
     },
     "output_type": "display_data"
    }
   ],
   "source": [
    "\n",
    "probability_model=tf.keras.Sequential([model,tf.keras.layers.Softmax()])\n",
    "pred=probability_model.predict(test_imgs)\n",
    "\n",
    "k=3\n",
    "x=np.argmax(pred[k])\n",
    "print(x)\n",
    "plt.imshow(train_imgs[x])\n"
   ]
  },
  {
   "cell_type": "code",
   "execution_count": 300,
   "metadata": {},
   "outputs": [
    {
     "data": {
      "text/plain": [
       "<matplotlib.image.AxesImage at 0x8f1714d08>"
      ]
     },
     "execution_count": 300,
     "metadata": {},
     "output_type": "execute_result"
    },
    {
     "data": {
      "image/png": "[encoded data removed]",
      "text/plain": [
       "<Figure size 432x288 with 1 Axes>"
      ]
     },
     "metadata": {
      "needs_background": "light"
     },
     "output_type": "display_data"
    }
   ],
   "source": [
    "plt.imshow(test_imgs[k])"
   ]
  },
  {
   "cell_type": "code",
   "execution_count": 301,
   "metadata": {},
   "outputs": [],
   "source": [
    "test_labe=np.array([0,1,2])\n",
    "train_img=np.array([zero,seven,nine])\n",
    "test_img=np.array([zero,seven,nine,zero,zero,seven,nine,zero])"
   ]
  },
  {
   "cell_type": "code",
   "execution_count": 302,
   "metadata": {},
   "outputs": [],
   "source": [
    "model=tf.keras.Sequential([\n",
    "    tf.keras.layers.Flatten(input_shape=(28,28)),\n",
    "    tf.keras.layers.Dense(128,activation='relu'),\n",
    "    tf.keras.layers.Dense(128,activation='relu'),\n",
    "    tf.keras.layers.Dense(3)\n",
    "])\n",
    "model.compile(optimizer='adam',loss=tf.keras.losses.SparseCategoricalCrossentropy(from_logits=True),metrics=['accuracy'])"
   ]
  },
  {
   "cell_type": "code",
   "execution_count": 171,
   "metadata": {},
   "outputs": [
    {
     "name": "stdout",
     "output_type": "stream",
     "text": [
      "Train on 3 samples\n",
      "Epoch 1/10\n",
      "3/3 [==============================] - 0s 1ms/sample - loss: 140.8878 - accuracy: 0.0000e+00\n",
      "Epoch 2/10\n",
      "3/3 [==============================] - 0s 1ms/sample - loss: 157.9437 - accuracy: 0.3333\n",
      "Epoch 3/10\n",
      "3/3 [==============================] - 0s 1ms/sample - loss: 0.0000e+00 - accuracy: 1.0000\n",
      "Epoch 4/10\n",
      "3/3 [==============================] - 0s 2ms/sample - loss: 59.8906 - accuracy: 0.6667\n",
      "Epoch 5/10\n",
      "3/3 [==============================] - 0s 1ms/sample - loss: 36.8915 - accuracy: 0.6667\n",
      "Epoch 6/10\n",
      "3/3 [==============================] - 0s 1ms/sample - loss: 0.0000e+00 - accuracy: 1.0000\n",
      "Epoch 7/10\n",
      "3/3 [==============================] - 0s 1ms/sample - loss: 0.0000e+00 - accuracy: 1.0000\n",
      "Epoch 8/10\n",
      "3/3 [==============================] - 0s 1ms/sample - loss: 0.0000e+00 - accuracy: 1.0000\n",
      "Epoch 9/10\n",
      "3/3 [==============================] - 0s 1ms/sample - loss: 0.0000e+00 - accuracy: 1.0000\n",
      "Epoch 10/10\n",
      "3/3 [==============================] - 0s 1ms/sample - loss: 0.0000e+00 - accuracy: 1.0000\n"
     ]
    },
    {
     "data": {
      "text/plain": [
       "<tensorflow.python.keras.callbacks.History at 0x8dda5d488>"
      ]
     },
     "execution_count": 171,
     "metadata": {},
     "output_type": "execute_result"
    }
   ],
   "source": [
    "model.fit(train_img,test_labe,epochs=10)"
   ]
  },
  {
   "cell_type": "code",
   "execution_count": 209,
   "metadata": {},
   "outputs": [
    {
     "data": {
      "text/plain": [
       "<matplotlib.image.AxesImage at 0x8ebe04708>"
      ]
     },
     "execution_count": 209,
     "metadata": {},
     "output_type": "execute_result"
    },
    {
     "data": {
      "image/png": "[encoded data removed]",
      "text/plain": [
       "<Figure size 432x288 with 1 Axes>"
      ]
     },
     "metadata": {
      "needs_background": "light"
     },
     "output_type": "display_data"
    }
   ],
   "source": [
    "h=np.array([zero1,seven1])\n",
    "probability_model=tf.keras.Sequential([model,tf.keras.layers.Softmax()])\n",
    "pred=probability_model.predict(test_img)\n",
    "test_img=np.array([zero,seven,nine,zero,zero,seven,nine,zero])\n",
    "k=7\n",
    "x=np.argmax(pred[k])\n",
    "plt.imshow(train_img[x])"
   ]
  },
  {
   "cell_type": "code",
   "execution_count": 210,
   "metadata": {},
   "outputs": [
    {
     "name": "stdout",
     "output_type": "stream",
     "text": [
      "[[1. 0. 0.]\n",
      " [0. 1. 0.]\n",
      " [0. 0. 1.]\n",
      " [1. 0. 0.]\n",
      " [1. 0. 0.]\n",
      " [0. 1. 0.]\n",
      " [0. 0. 1.]\n",
      " [1. 0. 0.]]\n"
     ]
    }
   ],
   "source": [
    "print(pred)"
   ]
  }
 ],
 "metadata": {
  "kernelspec": {
   "display_name": "Python 3",
   "language": "python",
   "name": "python3"
  },
  "language_info": {
   "codemirror_mode": {
    "name": "ipython",
    "version": 3
   },
   "file_extension": ".py",
   "mimetype": "text/x-python",
   "name": "python",
   "nbconvert_exporter": "python",
   "pygments_lexer": "ipython3",
   "version": "3.7.6"
  }
 },
 "nbformat": 4,
 "nbformat_minor": 4
}
